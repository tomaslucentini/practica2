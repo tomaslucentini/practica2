{
 "cells": [
  {
   "cell_type": "code",
   "execution_count": 5,
   "metadata": {},
   "outputs": [
    {
     "name": "stdout",
     "output_type": "stream",
     "text": [
      "Hola practica2\n",
      "PUNTO 2. Nombre del goleador:  CAROLINA  . Cantidad de goles:  14\n",
      "PUNTO 3. Nombre del jugador más influyente:  CAROLINA  . Puntaje:  25.5\n",
      "PUNTO 4. Promedio de goles por partido del equipo:  2.84\n",
      "PUNTO 5. Promedio de goles por partido del goleador:  0.56\n"
     ]
    }
   ],
   "source": [
    "if __name__ == \"__main__\": print(\"Hola practica2\")\n",
    "\n",
    "from calculadora import generar_estadisticas, goleador, jugador_influyente, promedio_goles_equipo, promedio_goles_goleador\n",
    "\n",
    "names = \"\"\"Agustin, Yanina, Andrés, Ariadna, Bautista, CAROLINA, CESAR, David, Diego, Dolores, DYLAN, ELIANA, Emanuel, Fabián, Noelia, Francsica, FEDERICO, Fernanda, GONZALO, Nancy\"\"\"\n",
    "goals = [0, 10, 4, 0, 5, 14, 0, 0, 7, 2, 1, 1, 1, 5, 6, 1, 1, 2, 0, 11]\n",
    "goals_avoided = [0, 2, 0, 0, 5, 2, 0, 0, 1, 2, 0, 5, 5, 0, 1, 0, 2, 3, 0, 0]\n",
    "assists = [0, 5, 1, 0, 5, 2, 0, 0, 1, 2, 1, 5, 5, 0, 1, 0, 2, 3, 1, 0]\n",
    "\n",
    "estadisticas = generar_estadisticas.generar_estadisticas(names, goals, goals_avoided, assists)\n",
    "\n",
    "nombre_goleador, goles_goleador = goleador.goleador(estadisticas)\n",
    "nombre_mas_influyente, puntaje_mas_influyente = jugador_influyente.jugador_influyente(estadisticas)\n",
    "promedio_goles_equipo_total = promedio_goles_equipo.promedio_goles_equipo(goals)\n",
    "promedio_goles_goleador_total = promedio_goles_goleador.promedio_goles_goleador(goles_goleador)\n",
    "\n",
    "print(\"PUNTO 2. Nombre del goleador: \", nombre_goleador, \" . Cantidad de goles: \" ,goles_goleador)\n",
    "print(\"PUNTO 3. Nombre del jugador más influyente: \", nombre_mas_influyente, \" . Puntaje: \", puntaje_mas_influyente)\n",
    "print(\"PUNTO 4. Promedio de goles por partido del equipo: \", promedio_goles_equipo_total)\n",
    "print(\"PUNTO 5. Promedio de goles por partido del goleador: \", promedio_goles_goleador_total)"
   ]
  }
 ],
 "metadata": {
  "kernelspec": {
   "display_name": "Python 3",
   "language": "python",
   "name": "python3"
  },
  "language_info": {
   "codemirror_mode": {
    "name": "ipython",
    "version": 3
   },
   "file_extension": ".py",
   "mimetype": "text/x-python",
   "name": "python",
   "nbconvert_exporter": "python",
   "pygments_lexer": "ipython3",
   "version": "3.11.7"
  }
 },
 "nbformat": 4,
 "nbformat_minor": 2
}
